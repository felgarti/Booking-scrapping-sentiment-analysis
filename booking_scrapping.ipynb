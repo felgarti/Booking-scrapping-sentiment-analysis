{
  "cells": [
    {
      "cell_type": "code",
      "execution_count": null,
      "id": "14dab725",
      "metadata": {
        "id": "14dab725"
      },
      "outputs": [],
      "source": [
        "from bs4 import BeautifulSoup\n",
        "import requests \n",
        "import time \n",
        "# !apt-get update # to update ubuntu to correctly run apt install\n",
        "# !apt install chromium-chromedriver\n",
        "# !pip install selenium\n",
        "# !pip install webdriver-manager\n",
        "import time\n",
        "import pandas as pd\n",
        "from selenium.webdriver.common.action_chains import ActionChains\n",
        "from selenium import webdriver\n",
        "from selenium.webdriver.support.ui import WebDriverWait\n",
        "from selenium.webdriver.support import expected_conditions as EC\n",
        "from selenium.webdriver.common.by import By\n",
        "from selenium.common.exceptions import TimeoutException\n",
        "from webdriver_manager.chrome import ChromeDriverManager\n",
        "from selenium.common.exceptions import NoSuchElementException\n",
        "from selenium.common.exceptions import StaleElementReferenceException\n",
        "\n",
        "\n",
        "chrome_options = webdriver.ChromeOptions()\n",
        "# chrome_options.add_argument('--headless')\n",
        "chrome_options.add_argument('--no-sandbox')\n",
        "chrome_options.add_argument('--disable-dev-shm-usage')\n"
      ]
    },
    {
      "cell_type": "code",
      "execution_count": null,
      "id": "092641f7",
      "metadata": {
        "id": "092641f7"
      },
      "outputs": [],
      "source": [
        "main_page=\"https://www.booking.com/searchresults.fr.html?label=gog235jc-1DCAEoggI46AdIDVgDaIwBiAEBmAENuAEXyAEM2AED6AEB-AECiAIBqAIDuAKKst-QBsACAdICJDFjYjRlNmRhLTQ3MDMtNDRiMy05MTNiLWVmZWVkMGZkODRmNdgCBOACAQ&sid=23ea59eaaf9afb886f400ec27b5f1054&aid=397594&sb_lp=1&error_url=https%3A%2F%2Fwww.booking.com%2Findex.fr.html%3Faid%3D397594%3Blabel%3Dgog235jc-1DCAEoggI46AdIDVgDaIwBiAEBmAENuAEXyAEM2AED6AEB-AECiAIBqAIDuAKKst-QBsACAdICJDFjYjRlNmRhLTQ3MDMtNDRiMy05MTNiLWVmZWVkMGZkODRmNdgCBOACAQ%3Bsid%3D23ea59eaaf9afb886f400ec27b5f1054%3Bsb_price_type%3Dtotal%26%3B&ss=Maroc&is_ski_area=&checkin_year=&checkin_month=&checkout_year=&checkout_month=&group_adults=1&group_children=0&no_rooms=1&b_h4u_keep_filters=&from_sf=1&ss_raw=mar&ac_position=1&ac_langcode=fr&ac_click_type=b&dest_id=143&dest_type=country&place_id_lat=32.4281&place_id_lon=-6.92197&search_pageview_id=43e087aa56b00115&search_selected=true&search_pageview_id=43e087aa56b00115&ac_suggestion_list_length=5&ac_suggestion_theme_list_length=0&order=class_asc&nflt=class%3D1%3Bclass%3D2%3Bclass%3D3%3Bclass%3D4%3Bclass%3D5\""
      ]
    },
    {
      "cell_type": "code",
      "execution_count": null,
      "id": "d8cca181",
      "metadata": {
        "id": "d8cca181"
      },
      "outputs": [],
      "source": [
        "# main_page+\"&offset=\" multiple de 25"
      ]
    },
    {
      "cell_type": "code",
      "execution_count": null,
      "id": "c2c430ae",
      "metadata": {
        "id": "c2c430ae"
      },
      "outputs": [],
      "source": [
        "def page_links(start,end,main_url):\n",
        "    pages=[]\n",
        "    for i in range(start,end,25):\n",
        "        if(i==0):\n",
        "            pages.append(main_url)\n",
        "        else:\n",
        "            pages.append(main_page+\"&offset=\"+str(i))\n",
        "    return pages"
      ]
    },
    {
      "cell_type": "code",
      "execution_count": null,
      "id": "87df8ac6",
      "metadata": {
        "scrolled": true,
        "id": "87df8ac6"
      },
      "outputs": [],
      "source": [
        "#new version\n",
        "page_links=page_links(450,600,main_page)\n",
        "notes=[]\n",
        "lang=[]\n",
        "comments=[]\n",
        "hotels_data=[]\n",
        "for page in page_links :\n",
        "    browser= webdriver.Chrome('chromedriver',options=chrome_options)\n",
        "    browser.get(page)\n",
        "    try : \n",
        "        ignored_exceptions=(NoSuchElementException,StaleElementReferenceException,)\n",
        "        WebDriverWait(browser, 10,ignored_exceptions=ignored_exceptions)\n",
        "\n",
        "    except TimeoutException:\n",
        "                print(\"TimeoutException: Element not found\")\n",
        "    urls=[i.get_attribute('href') for i in browser.find_elements(by=By.CLASS_NAME,value='fb01724e5b')]\n",
        "    hotels=[i.text for i in browser.find_elements(by=By.XPATH,value='.//div[1]/div[2]/div/div/div/div[1]/div/div[1]/div/h3/a/div[1]')]\n",
        "    for index in range(len(urls)):\n",
        "        inner_browser= webdriver.Chrome('chromedriver',options=chrome_options)\n",
        "        inner_browser.get(urls[index])\n",
        "        try : \n",
        "            link = WebDriverWait(inner_browser, 5).until(EC.presence_of_element_located((By.CSS_SELECTOR, '#guest-featured_reviews__horizontal-block > div > div.hp-featured_reviews-bottom > button')))\n",
        "            link.click()\n",
        "            time.sleep(2)\n",
        "            \n",
        "            divs=inner_browser.find_elements(by=By.CLASS_NAME , value='review_list_new_item_block')\n",
        "            for div in divs:\n",
        "                hotels_data.append(hotels[index])\n",
        "                comments.append(div.find_element(by=By.CLASS_NAME, value='c-review__inner').text)\n",
        "                lang.append(div.find_element(by=By.CLASS_NAME, value='c-review__inner').get_attribute('lang')) \n",
        "                if(div.find_element(by=By.XPATH, value='.//div[1]/div/div[2]/div/div').text):\n",
        "                    notes.append(div.find_element(by=By.XPATH, value='.//div/div[2]/div[2]/div[1]/div/div[2]/div/div').text)\n",
        "                else:\n",
        "                    notes.append(None)\n",
        "        except TimeoutException:\n",
        "            print(\"TimeoutException: Element not found\")\n",
        "            print(\"url : \",urls[index] ,\"\\n \")\n",
        "            \n",
        "        \n",
        "   \n",
        "    time.sleep(2)\n",
        "\n"
      ]
    },
    {
      "cell_type": "code",
      "execution_count": null,
      "id": "e8e94c38",
      "metadata": {
        "id": "e8e94c38"
      },
      "outputs": [],
      "source": [
        "len(notes)\n"
      ]
    },
    {
      "cell_type": "code",
      "execution_count": null,
      "id": "8481945e",
      "metadata": {
        "id": "8481945e"
      },
      "outputs": [],
      "source": [
        "page"
      ]
    },
    {
      "cell_type": "code",
      "execution_count": null,
      "id": "e6107d21",
      "metadata": {
        "id": "e6107d21"
      },
      "outputs": [],
      "source": [
        "data=pd.DataFrame(notes,columns=['notes'])\n",
        "data.to_csv('notesTemp.csv')\n",
        "data=pd.DataFrame(comments,columns=['comments'])\n",
        "data.to_csv('commentsTemp.csv')\n",
        "data=pd.DataFrame(lang,columns=['lang'])\n",
        "data.to_csv('langTemp.csv')\n",
        "data=pd.DataFrame(hotels_data,columns=['hotel_name'])\n",
        "data.to_csv('hotels_dataTemp.csv')\n"
      ]
    },
    {
      "cell_type": "code",
      "execution_count": null,
      "id": "eea92a34",
      "metadata": {
        "id": "eea92a34"
      },
      "outputs": [],
      "source": [
        "data.head()"
      ]
    },
    {
      "cell_type": "code",
      "execution_count": null,
      "id": "746d2284",
      "metadata": {
        "id": "746d2284"
      },
      "outputs": [],
      "source": [
        "# data.to_csv('datakhju8.csv')"
      ]
    },
    {
      "cell_type": "code",
      "execution_count": null,
      "id": "6e129ae3",
      "metadata": {
        "id": "6e129ae3"
      },
      "outputs": [],
      "source": [
        "len(hotels_data)"
      ]
    },
    {
      "cell_type": "code",
      "execution_count": null,
      "id": "fbe506cf",
      "metadata": {
        "id": "fbe506cf",
        "outputId": "d3fc9042-9258-432c-db82-6836d1b32c9a"
      },
      "outputs": [
        {
          "name": "stdout",
          "output_type": "stream",
          "text": [
            "<class 'pandas.core.frame.DataFrame'>\n",
            "RangeIndex: 448 entries, 0 to 447\n",
            "Data columns (total 4 columns):\n",
            " #   Column      Non-Null Count  Dtype \n",
            "---  ------      --------------  ----- \n",
            " 0   notes       448 non-null    object\n",
            " 1   comments    448 non-null    object\n",
            " 2   hotel_name  448 non-null    object\n",
            " 3   lang        448 non-null    object\n",
            "dtypes: object(4)\n",
            "memory usage: 14.1+ KB\n"
          ]
        }
      ],
      "source": [
        "data.info()"
      ]
    }
  ],
  "metadata": {
    "kernelspec": {
      "display_name": "Python 3 (ipykernel)",
      "language": "python",
      "name": "python3"
    },
    "language_info": {
      "codemirror_mode": {
        "name": "ipython",
        "version": 3
      },
      "file_extension": ".py",
      "mimetype": "text/x-python",
      "name": "python",
      "nbconvert_exporter": "python",
      "pygments_lexer": "ipython3",
      "version": "3.9.7"
    },
    "colab": {
      "name": "booking scrapping.ipynb",
      "provenance": [],
      "collapsed_sections": []
    }
  },
  "nbformat": 4,
  "nbformat_minor": 5
}
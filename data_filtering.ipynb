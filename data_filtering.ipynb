{
  "cells": [
    {
      "cell_type": "code",
      "execution_count": null,
      "id": "65c75fc1",
      "metadata": {
        "id": "65c75fc1"
      },
      "outputs": [],
      "source": [
        "import pandas as pd "
      ]
    },
    {
      "cell_type": "code",
      "execution_count": null,
      "id": "91b23383",
      "metadata": {
        "id": "91b23383"
      },
      "outputs": [],
      "source": [
        "data=pd.read_csv('data1185.csv')"
      ]
    },
    {
      "cell_type": "code",
      "execution_count": null,
      "id": "fd76394a",
      "metadata": {
        "id": "fd76394a",
        "outputId": "e6e48fbd-1054-478a-b3c3-a38aa4a9dad9"
      },
      "outputs": [
        {
          "data": {
            "text/html": [
              "<div>\n",
              "<style scoped>\n",
              "    .dataframe tbody tr th:only-of-type {\n",
              "        vertical-align: middle;\n",
              "    }\n",
              "\n",
              "    .dataframe tbody tr th {\n",
              "        vertical-align: top;\n",
              "    }\n",
              "\n",
              "    .dataframe thead th {\n",
              "        text-align: right;\n",
              "    }\n",
              "</style>\n",
              "<table border=\"1\" class=\"dataframe\">\n",
              "  <thead>\n",
              "    <tr style=\"text-align: right;\">\n",
              "      <th></th>\n",
              "      <th>Unnamed: 0</th>\n",
              "      <th>hotel_name</th>\n",
              "      <th>lang</th>\n",
              "      <th>comments</th>\n",
              "      <th>notes</th>\n",
              "    </tr>\n",
              "  </thead>\n",
              "  <tbody>\n",
              "    <tr>\n",
              "      <th>0</th>\n",
              "      <td>0</td>\n",
              "      <td>Riad Amina</td>\n",
              "      <td>NaN</td>\n",
              "      <td>A aimé\\n · La disponibilité du personnel.\\nL'e...</td>\n",
              "      <td>10</td>\n",
              "    </tr>\n",
              "    <tr>\n",
              "      <th>1</th>\n",
              "      <td>1</td>\n",
              "      <td>Riad Amina</td>\n",
              "      <td>NaN</td>\n",
              "      <td>A aimé\\n · La deco (surtout des chambres) \\nle...</td>\n",
              "      <td>8,0</td>\n",
              "    </tr>\n",
              "    <tr>\n",
              "      <th>2</th>\n",
              "      <td>2</td>\n",
              "      <td>Riad Amina</td>\n",
              "      <td>NaN</td>\n",
              "      <td>A aimé\\n · Youssef et son équipe ont été très ...</td>\n",
              "      <td>8,0</td>\n",
              "    </tr>\n",
              "    <tr>\n",
              "      <th>3</th>\n",
              "      <td>3</td>\n",
              "      <td>Riad Amina</td>\n",
              "      <td>NaN</td>\n",
              "      <td>A aimé\\n · Le personnel était au top!! Je revi...</td>\n",
              "      <td>9,0</td>\n",
              "    </tr>\n",
              "    <tr>\n",
              "      <th>4</th>\n",
              "      <td>4</td>\n",
              "      <td>Riad Amina</td>\n",
              "      <td>NaN</td>\n",
              "      <td>A aimé\\n · Accueil parfait de Younes, de la je...</td>\n",
              "      <td>8,0</td>\n",
              "    </tr>\n",
              "  </tbody>\n",
              "</table>\n",
              "</div>"
            ],
            "text/plain": [
              "   Unnamed: 0  hotel_name lang  \\\n",
              "0           0  Riad Amina  NaN   \n",
              "1           1  Riad Amina  NaN   \n",
              "2           2  Riad Amina  NaN   \n",
              "3           3  Riad Amina  NaN   \n",
              "4           4  Riad Amina  NaN   \n",
              "\n",
              "                                            comments notes  \n",
              "0  A aimé\\n · La disponibilité du personnel.\\nL'e...    10  \n",
              "1  A aimé\\n · La deco (surtout des chambres) \\nle...   8,0  \n",
              "2  A aimé\\n · Youssef et son équipe ont été très ...   8,0  \n",
              "3  A aimé\\n · Le personnel était au top!! Je revi...   9,0  \n",
              "4  A aimé\\n · Accueil parfait de Younes, de la je...   8,0  "
            ]
          },
          "execution_count": 3,
          "metadata": {},
          "output_type": "execute_result"
        }
      ],
      "source": [
        "data.head()"
      ]
    },
    {
      "cell_type": "code",
      "execution_count": null,
      "id": "ae8349c4",
      "metadata": {
        "id": "ae8349c4",
        "outputId": "97bd12e6-8012-41a7-8e8f-e9da30ec6eba"
      },
      "outputs": [
        {
          "name": "stdout",
          "output_type": "stream",
          "text": [
            "<class 'pandas.core.frame.DataFrame'>\n",
            "RangeIndex: 1185 entries, 0 to 1184\n",
            "Data columns (total 5 columns):\n",
            " #   Column      Non-Null Count  Dtype \n",
            "---  ------      --------------  ----- \n",
            " 0   Unnamed: 0  1185 non-null   int64 \n",
            " 1   hotel_name  1185 non-null   object\n",
            " 2   lang        39 non-null     object\n",
            " 3   comments    1185 non-null   object\n",
            " 4   notes       1184 non-null   object\n",
            "dtypes: int64(1), object(4)\n",
            "memory usage: 46.4+ KB\n"
          ]
        }
      ],
      "source": [
        "data.info()"
      ]
    },
    {
      "cell_type": "code",
      "execution_count": null,
      "id": "5188d533",
      "metadata": {
        "id": "5188d533"
      },
      "outputs": [],
      "source": [
        ""
      ]
    },
    {
      "cell_type": "code",
      "execution_count": null,
      "id": "b1c83e36",
      "metadata": {
        "id": "b1c83e36"
      },
      "outputs": [],
      "source": [
        "def check(s):\n",
        "\n",
        "    if(type(s)!= type(float()) and s.find(\"Ce client n'a pas laissé de commentaire\")==-1):\n",
        "        return False\n",
        "  \n",
        "    return True"
      ]
    },
    {
      "cell_type": "code",
      "execution_count": null,
      "id": "f9536655",
      "metadata": {
        "id": "f9536655",
        "outputId": "0ab18926-451e-4015-eb77-9eb5b7af0f13"
      },
      "outputs": [
        {
          "data": {
            "text/plain": [
              "10"
            ]
          },
          "execution_count": 6,
          "metadata": {},
          "output_type": "execute_result"
        }
      ],
      "source": [
        "# nan or \" Ce client n'a pas laissé de commentaire \"\n",
        "nb_drop_comments=len([i for i in data.comments.apply(check) if i==True  ])\n",
        "nb_drop_comments"
      ]
    },
    {
      "cell_type": "code",
      "execution_count": null,
      "id": "418d74d9",
      "metadata": {
        "id": "418d74d9",
        "outputId": "f1893284-3b0b-464f-9bf8-d48796100231"
      },
      "outputs": [
        {
          "data": {
            "text/plain": [
              "Int64Index([513, 514, 515, 749, 750, 751, 752, 753, 754, 755], dtype='int64')"
            ]
          },
          "execution_count": 7,
          "metadata": {},
          "output_type": "execute_result"
        }
      ],
      "source": [
        "index_drop=data[data.comments.apply(check)==True].index\n",
        "index_drop"
      ]
    },
    {
      "cell_type": "code",
      "execution_count": null,
      "id": "c9e95c32",
      "metadata": {
        "id": "c9e95c32"
      },
      "outputs": [],
      "source": [
        ""
      ]
    },
    {
      "cell_type": "code",
      "execution_count": null,
      "id": "68e0288f",
      "metadata": {
        "id": "68e0288f"
      },
      "outputs": [],
      "source": [
        "new_data=data.drop(index_drop,axis=0)"
      ]
    },
    {
      "cell_type": "code",
      "execution_count": null,
      "id": "669742dc",
      "metadata": {
        "id": "669742dc",
        "outputId": "b3a3dbe1-3f2f-40cc-86ce-5d23f6b42a0d"
      },
      "outputs": [
        {
          "data": {
            "text/html": [
              "<div>\n",
              "<style scoped>\n",
              "    .dataframe tbody tr th:only-of-type {\n",
              "        vertical-align: middle;\n",
              "    }\n",
              "\n",
              "    .dataframe tbody tr th {\n",
              "        vertical-align: top;\n",
              "    }\n",
              "\n",
              "    .dataframe thead th {\n",
              "        text-align: right;\n",
              "    }\n",
              "</style>\n",
              "<table border=\"1\" class=\"dataframe\">\n",
              "  <thead>\n",
              "    <tr style=\"text-align: right;\">\n",
              "      <th></th>\n",
              "      <th>Unnamed: 0</th>\n",
              "      <th>hotel_name</th>\n",
              "      <th>lang</th>\n",
              "      <th>comments</th>\n",
              "      <th>notes</th>\n",
              "    </tr>\n",
              "  </thead>\n",
              "  <tbody>\n",
              "    <tr>\n",
              "      <th>244</th>\n",
              "      <td>244</td>\n",
              "      <td>Hotel La Corniche Fnideq</td>\n",
              "      <td>fr</td>\n",
              "      <td>N'a pas aimé\\n · Bon accueil, personnel sympa ...</td>\n",
              "      <td>8,0</td>\n",
              "    </tr>\n",
              "  </tbody>\n",
              "</table>\n",
              "</div>"
            ],
            "text/plain": [
              "     Unnamed: 0                hotel_name lang  \\\n",
              "244         244  Hotel La Corniche Fnideq   fr   \n",
              "\n",
              "                                              comments notes  \n",
              "244  N'a pas aimé\\n · Bon accueil, personnel sympa ...   8,0  "
            ]
          },
          "execution_count": 9,
          "metadata": {},
          "output_type": "execute_result"
        }
      ],
      "source": [
        "new_data.iloc[[244]]"
      ]
    },
    {
      "cell_type": "code",
      "execution_count": null,
      "id": "200f2460",
      "metadata": {
        "id": "200f2460"
      },
      "outputs": [],
      "source": [
        "for i in new_data.comments :\n",
        "    if type(i)==type(float()):\n",
        "        print(i)"
      ]
    },
    {
      "cell_type": "code",
      "execution_count": null,
      "id": "714ec832",
      "metadata": {
        "id": "714ec832"
      },
      "outputs": [],
      "source": [
        "new_data=new_data.drop('Unnamed: 0',axis=1)\n",
        "def float_repl(x):\n",
        "    if type(x)!=type(float()):\n",
        "        return  float(x.replace(',','.'))\n",
        "    return x"
      ]
    },
    {
      "cell_type": "code",
      "execution_count": null,
      "id": "151d9f18",
      "metadata": {
        "id": "151d9f18"
      },
      "outputs": [],
      "source": [
        "new_data.notes=new_data.notes.apply(float_repl)"
      ]
    },
    {
      "cell_type": "code",
      "execution_count": null,
      "id": "e16bcd2e",
      "metadata": {
        "id": "e16bcd2e",
        "outputId": "097b5b6f-0b54-41e2-a86a-1794133f31e8"
      },
      "outputs": [
        {
          "name": "stdout",
          "output_type": "stream",
          "text": [
            "<class 'pandas.core.frame.DataFrame'>\n",
            "Int64Index: 1175 entries, 0 to 1184\n",
            "Data columns (total 4 columns):\n",
            " #   Column      Non-Null Count  Dtype  \n",
            "---  ------      --------------  -----  \n",
            " 0   hotel_name  1175 non-null   object \n",
            " 1   lang        29 non-null     object \n",
            " 2   comments    1175 non-null   object \n",
            " 3   notes       1174 non-null   float64\n",
            "dtypes: float64(1), object(3)\n",
            "memory usage: 45.9+ KB\n"
          ]
        }
      ],
      "source": [
        "new_data.info()"
      ]
    },
    {
      "cell_type": "code",
      "execution_count": null,
      "id": "0d3edb2d",
      "metadata": {
        "id": "0d3edb2d",
        "outputId": "96e90f56-2d29-482f-9777-5280091922c3"
      },
      "outputs": [
        {
          "data": {
            "text/plain": [
              "array([nan, 'fr'], dtype=object)"
            ]
          },
          "execution_count": 14,
          "metadata": {},
          "output_type": "execute_result"
        }
      ],
      "source": [
        "new_data.lang.unique()\n"
      ]
    },
    {
      "cell_type": "code",
      "execution_count": null,
      "id": "bdd8fdd2",
      "metadata": {
        "id": "bdd8fdd2"
      },
      "outputs": [],
      "source": [
        "new_data.drop('lang',axis=1,inplace=True)"
      ]
    },
    {
      "cell_type": "code",
      "execution_count": null,
      "id": "b5abb821",
      "metadata": {
        "id": "b5abb821"
      },
      "outputs": [],
      "source": [
        "nulls=new_data.notes.isnull()\n",
        "for i in nulls.index:\n",
        "    if( nulls[i]==True):\n",
        "        new_data.drop(i,axis=0,inplace=True)"
      ]
    },
    {
      "cell_type": "code",
      "execution_count": null,
      "id": "afe5d281",
      "metadata": {
        "id": "afe5d281"
      },
      "outputs": [],
      "source": [
        "def A_aime(x):\n",
        "    if(x.find(\"A aimé\")!=-1):\n",
        "        return(x[9:])\n",
        "    return x"
      ]
    },
    {
      "cell_type": "code",
      "execution_count": null,
      "id": "e2a4e02a",
      "metadata": {
        "id": "e2a4e02a"
      },
      "outputs": [],
      "source": [
        "_comments=[]\n",
        "for i in new_data.comments:\n",
        "    _comments.append(A_aime(i))\n",
        "    "
      ]
    },
    {
      "cell_type": "code",
      "execution_count": null,
      "id": "e591cc26",
      "metadata": {
        "id": "e591cc26",
        "outputId": "965e5d53-8fe9-4d19-fec3-aeac00c15432"
      },
      "outputs": [
        {
          "data": {
            "text/plain": [
              "1174"
            ]
          },
          "execution_count": 19,
          "metadata": {},
          "output_type": "execute_result"
        }
      ],
      "source": [
        "len(_comments)"
      ]
    },
    {
      "cell_type": "code",
      "execution_count": null,
      "id": "ff3ce99a",
      "metadata": {
        "id": "ff3ce99a"
      },
      "outputs": [],
      "source": [
        "new_data.comments=_comments"
      ]
    },
    {
      "cell_type": "code",
      "execution_count": null,
      "id": "900edf39",
      "metadata": {
        "id": "900edf39",
        "outputId": "9a085fb1-6f5f-41df-b8c7-d59d648c1538"
      },
      "outputs": [
        {
          "name": "stdout",
          "output_type": "stream",
          "text": [
            "<class 'pandas.core.frame.DataFrame'>\n",
            "Int64Index: 1174 entries, 0 to 1183\n",
            "Data columns (total 3 columns):\n",
            " #   Column      Non-Null Count  Dtype  \n",
            "---  ------      --------------  -----  \n",
            " 0   hotel_name  1174 non-null   object \n",
            " 1   comments    1174 non-null   object \n",
            " 2   notes       1174 non-null   float64\n",
            "dtypes: float64(1), object(2)\n",
            "memory usage: 36.7+ KB\n"
          ]
        }
      ],
      "source": [
        "new_data.info()"
      ]
    },
    {
      "cell_type": "code",
      "execution_count": null,
      "id": "f0992dfc",
      "metadata": {
        "id": "f0992dfc"
      },
      "outputs": [],
      "source": [
        "# new_data.to_csv('data610processed.csv')"
      ]
    },
    {
      "cell_type": "code",
      "execution_count": null,
      "id": "da1f2e8a",
      "metadata": {
        "id": "da1f2e8a",
        "outputId": "5260d4c2-a918-471a-f7d0-a6e0b2ee07d3"
      },
      "outputs": [
        {
          "data": {
            "text/html": [
              "<div>\n",
              "<style scoped>\n",
              "    .dataframe tbody tr th:only-of-type {\n",
              "        vertical-align: middle;\n",
              "    }\n",
              "\n",
              "    .dataframe tbody tr th {\n",
              "        vertical-align: top;\n",
              "    }\n",
              "\n",
              "    .dataframe thead th {\n",
              "        text-align: right;\n",
              "    }\n",
              "</style>\n",
              "<table border=\"1\" class=\"dataframe\">\n",
              "  <thead>\n",
              "    <tr style=\"text-align: right;\">\n",
              "      <th></th>\n",
              "      <th>hotel_name</th>\n",
              "      <th>comments</th>\n",
              "      <th>notes</th>\n",
              "    </tr>\n",
              "  </thead>\n",
              "  <tbody>\n",
              "    <tr>\n",
              "      <th>1179</th>\n",
              "      <td>Malak Hotel</td>\n",
              "      <td>Bon rapport qualité prix</td>\n",
              "      <td>8.0</td>\n",
              "    </tr>\n",
              "    <tr>\n",
              "      <th>1180</th>\n",
              "      <td>Malak Hotel</td>\n",
              "      <td>Le service est parfait, la disponibilité du p...</td>\n",
              "      <td>8.0</td>\n",
              "    </tr>\n",
              "    <tr>\n",
              "      <th>1181</th>\n",
              "      <td>Malak Hotel</td>\n",
              "      <td>Accueil personnelle</td>\n",
              "      <td>7.0</td>\n",
              "    </tr>\n",
              "    <tr>\n",
              "      <th>1182</th>\n",
              "      <td>Malak Hotel</td>\n",
              "      <td>Tout : l'accueil, le service, la rapidité d'e...</td>\n",
              "      <td>9.0</td>\n",
              "    </tr>\n",
              "    <tr>\n",
              "      <th>1183</th>\n",
              "      <td>Malak Hotel</td>\n",
              "      <td>Personnel très agréable.\\nEmplacement idéal a...</td>\n",
              "      <td>9.0</td>\n",
              "    </tr>\n",
              "  </tbody>\n",
              "</table>\n",
              "</div>"
            ],
            "text/plain": [
              "       hotel_name                                           comments  notes\n",
              "1179  Malak Hotel                           Bon rapport qualité prix    8.0\n",
              "1180  Malak Hotel   Le service est parfait, la disponibilité du p...    8.0\n",
              "1181  Malak Hotel                                Accueil personnelle    7.0\n",
              "1182  Malak Hotel   Tout : l'accueil, le service, la rapidité d'e...    9.0\n",
              "1183  Malak Hotel   Personnel très agréable.\\nEmplacement idéal a...    9.0"
            ]
          },
          "execution_count": 23,
          "metadata": {},
          "output_type": "execute_result"
        }
      ],
      "source": [
        "new_data.tail()"
      ]
    },
    {
      "cell_type": "code",
      "execution_count": null,
      "id": "a95d24aa",
      "metadata": {
        "id": "a95d24aa",
        "outputId": "bc698b0d-c657-4147-aa9f-53fc4d917836"
      },
      "outputs": [
        {
          "data": {
            "text/plain": [
              "73"
            ]
          },
          "execution_count": 309,
          "metadata": {},
          "output_type": "execute_result"
        }
      ],
      "source": [
        "len(new_data.hotel_name.unique())"
      ]
    },
    {
      "cell_type": "code",
      "execution_count": null,
      "id": "6f178534",
      "metadata": {
        "id": "6f178534"
      },
      "outputs": [],
      "source": [
        "# fourth page "
      ]
    },
    {
      "cell_type": "code",
      "execution_count": null,
      "id": "d7d053eb",
      "metadata": {
        "id": "d7d053eb"
      },
      "outputs": [],
      "source": [
        "new_data.to_csv('data1174processed.csv')"
      ]
    },
    {
      "cell_type": "code",
      "execution_count": null,
      "id": "476be730",
      "metadata": {
        "id": "476be730"
      },
      "outputs": [],
      "source": [
        ""
      ]
    }
  ],
  "metadata": {
    "kernelspec": {
      "display_name": "Python 3 (ipykernel)",
      "language": "python",
      "name": "python3"
    },
    "language_info": {
      "codemirror_mode": {
        "name": "ipython",
        "version": 3
      },
      "file_extension": ".py",
      "mimetype": "text/x-python",
      "name": "python",
      "nbconvert_exporter": "python",
      "pygments_lexer": "ipython3",
      "version": "3.9.7"
    },
    "colab": {
      "name": "pre-proc.ipynb",
      "provenance": []
    }
  },
  "nbformat": 4,
  "nbformat_minor": 5
}